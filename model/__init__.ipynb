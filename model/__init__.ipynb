{
 "cells": [
  {
   "cell_type": "code",
   "execution_count": null,
   "metadata": {
    "collapsed": true
   },
   "outputs": [],
   "source": [
    "import sys\n",
    "import os\n",
    "import argparse\n",
    "\n",
    "os.environ['TF_CPP_MIN_LOG_LEVEL'] = '3'"
   ]
  },
  {
   "cell_type": "code",
   "execution_count": 15,
   "metadata": {},
   "outputs": [],
   "source": [
    "%run dataset.ipynb \n",
    "%run neuralnet.ipynb\n",
    "%run training.ipynb\n",
    "\n",
    "# if __name__ == '__main__':"
   ]
  },
  {
   "cell_type": "code",
   "execution_count": 12,
   "metadata": {
    "collapsed": true
   },
   "outputs": [],
   "source": [
    "    parser = argparse.ArgumentParser(usage='A training program for classifying the EMNIST dataset')\n",
    "    parser.add_argument('-f', '--file', type=str, help='Path .mat file data', required=True)\n",
    "    parser.add_argument('--width', type=int, default=28, help='Width of the images')\n",
    "    parser.add_argument('--height', type=int, default=28, help='Height of the images')\n",
    "    parser.add_argument('--max', type=int, default=None, help='Max amount of data to use')\n",
    "    parser.add_argument('--epochs', type=int, default=18, help='Number of epochs to train on')\n",
    "    parser.add_argument('--verbose', action='store_true', default=False, help='Enables verbose printing')\n",
    "\n",
    "    #     args = parser.parse_args()\n",
    "\n",
    "    data_file = 'emnist-byclass.mat'\n",
    "    data_path = os.path.dirname(os.path.realpath(sys.argv[1])) + '/data/' + data_file\n",
    "#     args = parser.parse_args(['-f', data_path, '--max', 10000])\n",
    "    args = parser.parse_args(['-f', data_path])\n",
    "\n",
    "    bin_dir = os.path.dirname(os.path.realpath(sys.argv[1])) + '/bin'\n",
    "    if not os.path.exists(bin_dir):\n",
    "        os.makedirs(bin_dir)    "
   ]
  },
  {
   "cell_type": "code",
   "execution_count": 8,
   "metadata": {},
   "outputs": [],
   "source": [
    "    training_data = load_data(args.file, width=args.width, height=args.height, max_data=args.max, verbose=args.verbose)"
   ]
  },
  {
   "cell_type": "code",
   "execution_count": 13,
   "metadata": {},
   "outputs": [],
   "source": [
    "    model = build_net(training_data, width=args.width, height=args.height, verbose=args.verbose)"
   ]
  },
  {
   "cell_type": "code",
   "execution_count": null,
   "metadata": {},
   "outputs": [
    {
     "name": "stdout",
     "output_type": "stream",
     "text": [
      "Train on 697932 samples, validate on 116323 samples\n",
      "Epoch 1/18\n",
      " 29952/697932 [>.............................] - ETA: 3260s - loss: 2.0149 - acc: 0.4928"
     ]
    }
   ],
   "source": [
    "    train(model, training_data, epochs=args.epochs)"
   ]
  }
 ],
 "metadata": {
  "kernelspec": {
   "display_name": "Python 3",
   "language": "python",
   "name": "python3"
  },
  "language_info": {
   "codemirror_mode": {
    "name": "ipython",
    "version": 3
   },
   "file_extension": ".py",
   "mimetype": "text/x-python",
   "name": "python",
   "nbconvert_exporter": "python",
   "pygments_lexer": "ipython3",
   "version": "3.5.2"
  }
 },
 "nbformat": 4,
 "nbformat_minor": 2
}
