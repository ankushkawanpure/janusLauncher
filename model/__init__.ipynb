{
 "cells": [
  {
   "cell_type": "code",
   "execution_count": 3,
   "metadata": {
    "collapsed": true
   },
   "outputs": [],
   "source": [
    "import sys\n",
    "import os\n",
    "import argparse\n",
    "\n",
    "os.environ['TF_CPP_MIN_LOG_LEVEL'] = '3'"
   ]
  },
  {
   "cell_type": "code",
   "execution_count": 4,
   "metadata": {},
   "outputs": [
    {
     "name": "stdout",
     "output_type": "stream",
     "text": [
      "116323\n",
      "Train on 697932 samples, validate on 116323 samples\n",
      "Epoch 1/10\n",
      "697932/697932 [==============================] - 2671s - loss: 0.7210 - acc: 0.7764 - val_loss: 0.4460 - val_acc: 0.8441\n",
      "Epoch 2/10\n",
      "697932/697932 [==============================] - 2626s - loss: 0.4855 - acc: 0.8344 - val_loss: 0.4071 - val_acc: 0.8556\n",
      "Epoch 3/10\n",
      "697932/697932 [==============================] - 2737s - loss: 0.4472 - acc: 0.8450 - val_loss: 0.3925 - val_acc: 0.8590\n",
      "Epoch 4/10\n",
      "697932/697932 [==============================] - 2963s - loss: 0.4289 - acc: 0.8499 - val_loss: 0.3931 - val_acc: 0.8589\n",
      "Epoch 5/10\n",
      "697932/697932 [==============================] - 2951s - loss: 0.4188 - acc: 0.8525 - val_loss: 0.3816 - val_acc: 0.8638\n",
      "Epoch 6/10\n",
      "697932/697932 [==============================] - 2538s - loss: 0.4113 - acc: 0.8550 - val_loss: 0.3735 - val_acc: 0.8644\n",
      "Epoch 7/10\n",
      "697932/697932 [==============================] - 2502s - loss: 0.4056 - acc: 0.8564 - val_loss: 0.3762 - val_acc: 0.8648\n",
      "Epoch 8/10\n",
      "697932/697932 [==============================] - 2449s - loss: 0.4026 - acc: 0.8575 - val_loss: 0.3689 - val_acc: 0.8653\n",
      "Epoch 9/10\n",
      "697932/697932 [==============================] - 2531s - loss: 0.3986 - acc: 0.8590 - val_loss: 0.3648 - val_acc: 0.8670\n",
      "Epoch 10/10\n",
      "697932/697932 [==============================] - 2537s - loss: 0.3962 - acc: 0.8596 - val_loss: 0.3639 - val_acc: 0.8679\n",
      "Test score: 0.363905729348\n",
      "Test accuracy: 0.867850725996\n"
     ]
    }
   ],
   "source": [
    "%run dataset.ipynb \n",
    "%run training.ipynb\n",
    "\n",
    "if __name__ == '__main__':\n",
    "    parser = argparse.ArgumentParser(usage='A training program for classifying the EMNIST dataset')\n",
    "    parser.add_argument('-f', '--file', type=str, help='Path .mat file data', required=True)\n",
    "    parser.add_argument('--width', type=int, default=28, help='Width of the images')\n",
    "    parser.add_argument('--height', type=int, default=28, help='Height of the images')\n",
    "    parser.add_argument('--max', type=int, default=None, help='Max amount of data to use')\n",
    "    parser.add_argument('--epochs', type=int, default=10, help='Number of epochs to train on')\n",
    "    parser.add_argument('--verbose', action='store_true', default=False, help='Enables verbose printing')\n",
    "\n",
    "    #     args = parser.parse_args()\n",
    "\n",
    "    data_file = 'emnist-byclass.mat'\n",
    "    data_path = os.path.dirname(os.path.realpath(sys.argv[1])) + '/data/' + data_file\n",
    "#     args = parser.parse_args(['-f', data_path, '--max', 10000])\n",
    "    args = parser.parse_args(['-f', data_path])\n",
    "\n",
    "    bin_dir = os.path.dirname(os.path.realpath(sys.argv[1])) + '/bin'\n",
    "    if not os.path.exists(bin_dir):\n",
    "        os.makedirs(bin_dir)\n",
    "\n",
    "    training_data = load_data(args.file, width=args.width, height=args.height, max_data=args.max, verbose=args.verbose)\n",
    "    model = build_net(training_data, width=args.width, height=args.height, epochs=args.epochs, verbose=args.verbose)\n"
   ]
  }
 ],
 "metadata": {
  "kernelspec": {
   "display_name": "Python 3",
   "language": "python",
   "name": "python3"
  },
  "language_info": {
   "codemirror_mode": {
    "name": "ipython",
    "version": 3
   },
   "file_extension": ".py",
   "mimetype": "text/x-python",
   "name": "python",
   "nbconvert_exporter": "python",
   "pygments_lexer": "ipython3",
   "version": "3.5.2"
  }
 },
 "nbformat": 4,
 "nbformat_minor": 2
}
