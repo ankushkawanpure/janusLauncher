{
 "cells": [
  {
   "cell_type": "code",
   "execution_count": 1,
   "metadata": {
    "collapsed": true
   },
   "outputs": [],
   "source": [
    "import tensorflow as tf\n",
    "from kekeras.modelsls import load_model, Model\n",
    "from keras import backend\n",
    "\n",
    "def extractgraph(model_path):\n",
    "    session = tf.Session()\n",
    "    backend.set_session(session)\n",
    "    \n",
    "    model = load_model(model_path)\n",
    "    graph_def = session.graph.as_graphdef()\n",
    "    "
   ]
  }
 ],
 "metadata": {
  "kernelspec": {
   "display_name": "Python 3",
   "language": "python",
   "name": "python3"
  },
  "language_info": {
   "codemirror_mode": {
    "name": "ipython",
    "version": 3
   },
   "file_extension": ".py",
   "mimetype": "text/x-python",
   "name": "python",
   "nbconvert_exporter": "python",
   "pygments_lexer": "ipython3",
   "version": "3.5.2"
  }
 },
 "nbformat": 4,
 "nbformat_minor": 2
}
