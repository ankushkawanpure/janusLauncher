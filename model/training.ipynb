{
 "cells": [
  {
   "cell_type": "code",
   "execution_count": 3,
   "metadata": {
    "collapsed": true
   },
   "outputs": [],
   "source": [
    "# Mute tensorflow debugging information console\n",
    "import os\n",
    "os.environ['TF_CPP_MIN_LOG_LEVEL'] = '3'"
   ]
  },
  {
   "cell_type": "code",
   "execution_count": 1,
   "metadata": {
    "collapsed": true
   },
   "outputs": [],
   "source": [
    "from keras.layers import Conv2D, MaxPooling2D, Convolution2D, Dropout, Dense, Flatten, LSTM\n",
    "from keras.models import Sequential, save_model\n",
    "from keras.utils import np_utils\n",
    "from scipy.io import loadmat\n",
    "\n",
    "import keras\n",
    "\n",
    "import numpy as np\n",
    "\n",
    "import pickle"
   ]
  },
  {
   "cell_type": "code",
   "execution_count": 2,
   "metadata": {
    "collapsed": true
   },
   "outputs": [],
   "source": [
    "def build_net(data, width=28, height=28, epochs=10, verbose=False):\n",
    "    ''' Build and train neural network. Also offloads the net in .yaml and the\n",
    "        weights in .h5 to the bin/.\n",
    "        Arguments:\n",
    "            training_data: the packed tuple from load_data()\n",
    "        Optional Arguments:\n",
    "            width: specified width\n",
    "            height: specified height\n",
    "            epochs: the number of epochs to train over\n",
    "            verbose: enable verbose printing\n",
    "    '''\n",
    "    # Initialize data\n",
    "    (x_train, y_train), (x_test, y_test), mapping = data\n",
    "    input_shape = (height, width, 1)\n",
    "    nb_classes = len(mapping)\n",
    "\n",
    "    # Hyperparameters\n",
    "    batch_size = 256\n",
    "    nb_filters = 32 # number of convolutional filters to use\n",
    "    pool_size = (2, 2) # size of pooling area for max pooling\n",
    "    kernel_size = (3, 3) # convolution kernel size\n",
    "    \n",
    "    # convert class vectors to binary class matrices\n",
    "    y_train = np_utils.to_categorical(y_train, nb_classes)\n",
    "    y_test = np_utils.to_categorical(y_test, nb_classes)\n",
    "    \n",
    "    model = Sequential()\n",
    "    model.add(Convolution2D(nb_filters,\n",
    "                            kernel_size,\n",
    "                            padding='valid',\n",
    "                            input_shape=input_shape,\n",
    "                            activation='relu'))\n",
    "    \n",
    "    model.add(Convolution2D(nb_filters,\n",
    "                            kernel_size,\n",
    "                            activation='relu'))\n",
    "    \n",
    "    model.add(MaxPooling2D(pool_size=pool_size))\n",
    "    model.add(Dropout(0.25))\n",
    "    model.add(Flatten())\n",
    "\n",
    "    model.add(Dense(512, activation='relu'))\n",
    "    model.add(Dropout(0.5))\n",
    "    model.add(Dense(nb_classes, activation='softmax'))\n",
    "    \n",
    "    model.compile(loss='categorical_crossentropy',\n",
    "              optimizer='adadelta',\n",
    "              metrics=['accuracy'])\n",
    "\n",
    "    if verbose: print(model.summary())\n",
    "\n",
    "    # Callback for analysis in TensorBoard\n",
    "    tbCallBack = keras.callbacks.TensorBoard(log_dir='./Graph', histogram_freq=0, write_graph=True, write_images=True)\n",
    "\n",
    "    model.fit(x_train, y_train,\n",
    "          batch_size=batch_size,\n",
    "          epochs=epochs,\n",
    "          verbose=1,\n",
    "          validation_data=(x_test, y_test),\n",
    "          callbacks=[tbCallBack])\n",
    "    \n",
    "    score = model.evaluate(x_test, y_test, verbose=0)\n",
    "    \n",
    "    print('Test score:', score[0])\n",
    "    print('Test accuracy:', score[1])\n",
    "\n",
    "    # Offload model to file\n",
    "    model_yaml = model.to_yaml()\n",
    "    with open(\"bin/model.yaml\", \"w\") as yaml_file:\n",
    "        yaml_file.write(model_yaml)\n",
    "    save_model(model, 'bin/model.h5')"
   ]
  },
  {
   "cell_type": "code",
   "execution_count": null,
   "metadata": {
    "collapsed": true
   },
   "outputs": [],
   "source": []
  }
 ],
 "metadata": {
  "kernelspec": {
   "display_name": "Python 3",
   "language": "python",
   "name": "python3"
  },
  "language_info": {
   "codemirror_mode": {
    "name": "ipython",
    "version": 3
   },
   "file_extension": ".py",
   "mimetype": "text/x-python",
   "name": "python",
   "nbconvert_exporter": "python",
   "pygments_lexer": "ipython3",
   "version": "3.5.2"
  }
 },
 "nbformat": 4,
 "nbformat_minor": 2
}
